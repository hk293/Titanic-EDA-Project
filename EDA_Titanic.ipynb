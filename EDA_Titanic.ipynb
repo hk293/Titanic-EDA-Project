{
 "cells": [
  {
   "cell_type": "code",
   "execution_count": null,
   "id": "b92e5864",
   "metadata": {},
   "outputs": [],
   "source": [
    "# EDA on Titanic Dataset\n",
    "\n",
    "# Step 1: Import Libraries\n",
    "import pandas as pd\n",
    "import matplotlib.pyplot as plt\n",
    "import seaborn as sns"
   ]
  },
  {
   "cell_type": "code",
   "execution_count": null,
   "id": "1e5b7735",
   "metadata": {},
   "outputs": [],
   "source": [
    "# Step 2: Load Dataset\n",
    "df = pd.read_csv('train.csv')  # Make sure train.csv is in the same folder"
   ]
  },
  {
   "cell_type": "code",
   "execution_count": null,
   "id": "772fe44e",
   "metadata": {},
   "outputs": [],
   "source": [
    "# Step 3: Basic Exploration\n",
    "print(df.head())\n",
    "print(df.info())\n",
    "print(df.describe())\n",
    "print(df.isnull().sum())"
   ]
  },
  {
   "cell_type": "code",
   "execution_count": null,
   "id": "077a57e7",
   "metadata": {},
   "outputs": [],
   "source": [
    "# Step 4: Univariate Analysis\n",
    "plt.figure(figsize=(6,4))\n",
    "sns.countplot(x='Survived', data=df)\n",
    "plt.title('Survival Count')\n",
    "plt.show()\n",
    "\n",
    "plt.figure(figsize=(6,4))\n",
    "sns.histplot(df['Age'].dropna(), kde=True)\n",
    "plt.title('Age Distribution')\n",
    "plt.show()"
   ]
  },
  {
   "cell_type": "code",
   "execution_count": null,
   "id": "79780546",
   "metadata": {},
   "outputs": [],
   "source": [
    "# Step 5: Bivariate Analysis\n",
    "plt.figure(figsize=(6,4))\n",
    "sns.countplot(x='Sex', hue='Survived', data=df)\n",
    "plt.title('Survival by Sex')\n",
    "plt.show()\n",
    "\n",
    "plt.figure(figsize=(6,4))\n",
    "sns.countplot(x='Pclass', hue='Survived', data=df)\n",
    "plt.title('Survival by Passenger Class')\n",
    "plt.show()"
   ]
  },
  {
   "cell_type": "code",
   "execution_count": null,
   "id": "ab4f1290",
   "metadata": {},
   "outputs": [],
   "source": [
    "# Step 6: Correlation Heatmap\n",
    "plt.figure(figsize=(10,8))\n",
    "corr = df.corr()\n",
    "sns.heatmap(corr, annot=True, cmap='coolwarm')\n",
    "plt.title('Feature Correlation Heatmap')\n",
    "plt.show()"
   ]
  },
  {
   "cell_type": "code",
   "execution_count": null,
   "id": "1198ae50",
   "metadata": {},
   "outputs": [],
   "source": [
    "# Step 7: Pairplot\n",
    "sns.pairplot(df, hue='Survived')\n",
    "plt.show()"
   ]
  },
  {
   "cell_type": "code",
   "execution_count": null,
   "id": "71487cb1",
   "metadata": {},
   "outputs": [],
   "source": [
    "# Step 8: Summary (Write Observations)\n",
    "# - Females had a higher chance of survival.\n",
    "# - First class passengers survived more.\n",
    "# - Age has a wide spread; younger passengers survived slightly better.\n",
    "# - Fare and Pclass have a strong relationship with survival."
   ]
  }
 ],
 "metadata": {},
 "nbformat": 4,
 "nbformat_minor": 5
}
